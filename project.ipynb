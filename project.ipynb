{
 "cells": [
  {
   "cell_type": "code",
   "execution_count": 18,
   "metadata": {},
   "outputs": [],
   "source": [
    "import pandas as pd"
   ]
  },
  {
   "cell_type": "code",
   "execution_count": 19,
   "metadata": {},
   "outputs": [],
   "source": [
    "df = pd.read_csv('EV_Population.csv')"
   ]
  },
  {
   "cell_type": "code",
   "execution_count": 20,
   "metadata": {},
   "outputs": [
    {
     "data": {
      "text/plain": [
       "<bound method NDFrame.head of       State  Model Year       Make Electric Vehicle Type  Electric Range  \\\n",
       "0        WA        2020      TESLA                   BEV             266   \n",
       "1        WA        2024        BMW                  PHEV              39   \n",
       "2        WA        2024        BMW                  PHEV              39   \n",
       "3        WA        2018      TESLA                   BEV             215   \n",
       "4        WA        2012  CHEVROLET                  PHEV              35   \n",
       "...     ...         ...        ...                   ...             ...   \n",
       "92671    WA        2015     NISSAN                   BEV              84   \n",
       "92672    WA        2018      TESLA                   BEV             215   \n",
       "92673    WA        2019      TESLA                   BEV             220   \n",
       "92674    WA        2022   CHRYSLER                  PHEV              32   \n",
       "92675    WA        2018      TESLA                   BEV             215   \n",
       "\n",
       "       Base MSRP  Legislative District CAFV Eligibility Simple  \n",
       "0              0                  46.0                Eligible  \n",
       "1              0                  46.0                Eligible  \n",
       "2              0                  43.0                Eligible  \n",
       "3              0                   1.0                Eligible  \n",
       "4              0                  35.0                Eligible  \n",
       "...          ...                   ...                     ...  \n",
       "92671          0                  30.0                Eligible  \n",
       "92672          0                   1.0                Eligible  \n",
       "92673          0                  44.0                Eligible  \n",
       "92674          0                  45.0                Eligible  \n",
       "92675          0                  41.0                Eligible  \n",
       "\n",
       "[92676 rows x 8 columns]>"
      ]
     },
     "execution_count": 20,
     "metadata": {},
     "output_type": "execute_result"
    }
   ],
   "source": [
    "df.head"
   ]
  },
  {
   "cell_type": "code",
   "execution_count": 21,
   "metadata": {},
   "outputs": [
    {
     "data": {
      "text/html": [
       "<div>\n",
       "<style scoped>\n",
       "    .dataframe tbody tr th:only-of-type {\n",
       "        vertical-align: middle;\n",
       "    }\n",
       "\n",
       "    .dataframe tbody tr th {\n",
       "        vertical-align: top;\n",
       "    }\n",
       "\n",
       "    .dataframe thead th {\n",
       "        text-align: right;\n",
       "    }\n",
       "</style>\n",
       "<table border=\"1\" class=\"dataframe\">\n",
       "  <thead>\n",
       "    <tr style=\"text-align: right;\">\n",
       "      <th></th>\n",
       "      <th>Model Year</th>\n",
       "      <th>Electric Range</th>\n",
       "      <th>Base MSRP</th>\n",
       "      <th>Legislative District</th>\n",
       "    </tr>\n",
       "  </thead>\n",
       "  <tbody>\n",
       "    <tr>\n",
       "      <th>count</th>\n",
       "      <td>92676.00000</td>\n",
       "      <td>92676.000000</td>\n",
       "      <td>92676.000000</td>\n",
       "      <td>92676.000000</td>\n",
       "    </tr>\n",
       "    <tr>\n",
       "      <th>mean</th>\n",
       "      <td>2018.91494</td>\n",
       "      <td>115.509388</td>\n",
       "      <td>2018.564461</td>\n",
       "      <td>28.506798</td>\n",
       "    </tr>\n",
       "    <tr>\n",
       "      <th>std</th>\n",
       "      <td>3.27711</td>\n",
       "      <td>98.815377</td>\n",
       "      <td>11390.579691</td>\n",
       "      <td>14.649595</td>\n",
       "    </tr>\n",
       "    <tr>\n",
       "      <th>min</th>\n",
       "      <td>1999.00000</td>\n",
       "      <td>6.000000</td>\n",
       "      <td>0.000000</td>\n",
       "      <td>1.000000</td>\n",
       "    </tr>\n",
       "    <tr>\n",
       "      <th>25%</th>\n",
       "      <td>2017.00000</td>\n",
       "      <td>30.000000</td>\n",
       "      <td>0.000000</td>\n",
       "      <td>17.000000</td>\n",
       "    </tr>\n",
       "    <tr>\n",
       "      <th>50%</th>\n",
       "      <td>2019.00000</td>\n",
       "      <td>73.000000</td>\n",
       "      <td>0.000000</td>\n",
       "      <td>32.000000</td>\n",
       "    </tr>\n",
       "    <tr>\n",
       "      <th>75%</th>\n",
       "      <td>2021.00000</td>\n",
       "      <td>215.000000</td>\n",
       "      <td>0.000000</td>\n",
       "      <td>41.000000</td>\n",
       "    </tr>\n",
       "    <tr>\n",
       "      <th>max</th>\n",
       "      <td>2025.00000</td>\n",
       "      <td>337.000000</td>\n",
       "      <td>845000.000000</td>\n",
       "      <td>49.000000</td>\n",
       "    </tr>\n",
       "  </tbody>\n",
       "</table>\n",
       "</div>"
      ],
      "text/plain": [
       "        Model Year  Electric Range      Base MSRP  Legislative District\n",
       "count  92676.00000    92676.000000   92676.000000          92676.000000\n",
       "mean    2018.91494      115.509388    2018.564461             28.506798\n",
       "std        3.27711       98.815377   11390.579691             14.649595\n",
       "min     1999.00000        6.000000       0.000000              1.000000\n",
       "25%     2017.00000       30.000000       0.000000             17.000000\n",
       "50%     2019.00000       73.000000       0.000000             32.000000\n",
       "75%     2021.00000      215.000000       0.000000             41.000000\n",
       "max     2025.00000      337.000000  845000.000000             49.000000"
      ]
     },
     "execution_count": 21,
     "metadata": {},
     "output_type": "execute_result"
    }
   ],
   "source": [
    "df.describe()"
   ]
  },
  {
   "cell_type": "code",
   "execution_count": 22,
   "metadata": {},
   "outputs": [
    {
     "data": {
      "text/html": [
       "<div>\n",
       "<style scoped>\n",
       "    .dataframe tbody tr th:only-of-type {\n",
       "        vertical-align: middle;\n",
       "    }\n",
       "\n",
       "    .dataframe tbody tr th {\n",
       "        vertical-align: top;\n",
       "    }\n",
       "\n",
       "    .dataframe thead th {\n",
       "        text-align: right;\n",
       "    }\n",
       "</style>\n",
       "<table border=\"1\" class=\"dataframe\">\n",
       "  <thead>\n",
       "    <tr style=\"text-align: right;\">\n",
       "      <th></th>\n",
       "      <th>State</th>\n",
       "      <th>Model Year</th>\n",
       "      <th>Make</th>\n",
       "      <th>Electric Vehicle Type</th>\n",
       "      <th>Electric Range</th>\n",
       "      <th>Base MSRP</th>\n",
       "      <th>Legislative District</th>\n",
       "      <th>CAFV Eligibility Simple</th>\n",
       "    </tr>\n",
       "  </thead>\n",
       "  <tbody>\n",
       "    <tr>\n",
       "      <th>0</th>\n",
       "      <td>WA</td>\n",
       "      <td>2020</td>\n",
       "      <td>TESLA</td>\n",
       "      <td>BEV</td>\n",
       "      <td>266</td>\n",
       "      <td>0</td>\n",
       "      <td>46.0</td>\n",
       "      <td>Eligible</td>\n",
       "    </tr>\n",
       "    <tr>\n",
       "      <th>1</th>\n",
       "      <td>WA</td>\n",
       "      <td>2024</td>\n",
       "      <td>BMW</td>\n",
       "      <td>PHEV</td>\n",
       "      <td>39</td>\n",
       "      <td>0</td>\n",
       "      <td>46.0</td>\n",
       "      <td>Eligible</td>\n",
       "    </tr>\n",
       "    <tr>\n",
       "      <th>2</th>\n",
       "      <td>WA</td>\n",
       "      <td>2024</td>\n",
       "      <td>BMW</td>\n",
       "      <td>PHEV</td>\n",
       "      <td>39</td>\n",
       "      <td>0</td>\n",
       "      <td>43.0</td>\n",
       "      <td>Eligible</td>\n",
       "    </tr>\n",
       "    <tr>\n",
       "      <th>3</th>\n",
       "      <td>WA</td>\n",
       "      <td>2018</td>\n",
       "      <td>TESLA</td>\n",
       "      <td>BEV</td>\n",
       "      <td>215</td>\n",
       "      <td>0</td>\n",
       "      <td>1.0</td>\n",
       "      <td>Eligible</td>\n",
       "    </tr>\n",
       "    <tr>\n",
       "      <th>4</th>\n",
       "      <td>WA</td>\n",
       "      <td>2012</td>\n",
       "      <td>CHEVROLET</td>\n",
       "      <td>PHEV</td>\n",
       "      <td>35</td>\n",
       "      <td>0</td>\n",
       "      <td>35.0</td>\n",
       "      <td>Eligible</td>\n",
       "    </tr>\n",
       "    <tr>\n",
       "      <th>...</th>\n",
       "      <td>...</td>\n",
       "      <td>...</td>\n",
       "      <td>...</td>\n",
       "      <td>...</td>\n",
       "      <td>...</td>\n",
       "      <td>...</td>\n",
       "      <td>...</td>\n",
       "      <td>...</td>\n",
       "    </tr>\n",
       "    <tr>\n",
       "      <th>92671</th>\n",
       "      <td>WA</td>\n",
       "      <td>2015</td>\n",
       "      <td>NISSAN</td>\n",
       "      <td>BEV</td>\n",
       "      <td>84</td>\n",
       "      <td>0</td>\n",
       "      <td>30.0</td>\n",
       "      <td>Eligible</td>\n",
       "    </tr>\n",
       "    <tr>\n",
       "      <th>92672</th>\n",
       "      <td>WA</td>\n",
       "      <td>2018</td>\n",
       "      <td>TESLA</td>\n",
       "      <td>BEV</td>\n",
       "      <td>215</td>\n",
       "      <td>0</td>\n",
       "      <td>1.0</td>\n",
       "      <td>Eligible</td>\n",
       "    </tr>\n",
       "    <tr>\n",
       "      <th>92673</th>\n",
       "      <td>WA</td>\n",
       "      <td>2019</td>\n",
       "      <td>TESLA</td>\n",
       "      <td>BEV</td>\n",
       "      <td>220</td>\n",
       "      <td>0</td>\n",
       "      <td>44.0</td>\n",
       "      <td>Eligible</td>\n",
       "    </tr>\n",
       "    <tr>\n",
       "      <th>92674</th>\n",
       "      <td>WA</td>\n",
       "      <td>2022</td>\n",
       "      <td>CHRYSLER</td>\n",
       "      <td>PHEV</td>\n",
       "      <td>32</td>\n",
       "      <td>0</td>\n",
       "      <td>45.0</td>\n",
       "      <td>Eligible</td>\n",
       "    </tr>\n",
       "    <tr>\n",
       "      <th>92675</th>\n",
       "      <td>WA</td>\n",
       "      <td>2018</td>\n",
       "      <td>TESLA</td>\n",
       "      <td>BEV</td>\n",
       "      <td>215</td>\n",
       "      <td>0</td>\n",
       "      <td>41.0</td>\n",
       "      <td>Eligible</td>\n",
       "    </tr>\n",
       "  </tbody>\n",
       "</table>\n",
       "<p>92676 rows × 8 columns</p>\n",
       "</div>"
      ],
      "text/plain": [
       "      State  Model Year       Make Electric Vehicle Type  Electric Range  \\\n",
       "0        WA        2020      TESLA                   BEV             266   \n",
       "1        WA        2024        BMW                  PHEV              39   \n",
       "2        WA        2024        BMW                  PHEV              39   \n",
       "3        WA        2018      TESLA                   BEV             215   \n",
       "4        WA        2012  CHEVROLET                  PHEV              35   \n",
       "...     ...         ...        ...                   ...             ...   \n",
       "92671    WA        2015     NISSAN                   BEV              84   \n",
       "92672    WA        2018      TESLA                   BEV             215   \n",
       "92673    WA        2019      TESLA                   BEV             220   \n",
       "92674    WA        2022   CHRYSLER                  PHEV              32   \n",
       "92675    WA        2018      TESLA                   BEV             215   \n",
       "\n",
       "       Base MSRP  Legislative District CAFV Eligibility Simple  \n",
       "0              0                  46.0                Eligible  \n",
       "1              0                  46.0                Eligible  \n",
       "2              0                  43.0                Eligible  \n",
       "3              0                   1.0                Eligible  \n",
       "4              0                  35.0                Eligible  \n",
       "...          ...                   ...                     ...  \n",
       "92671          0                  30.0                Eligible  \n",
       "92672          0                   1.0                Eligible  \n",
       "92673          0                  44.0                Eligible  \n",
       "92674          0                  45.0                Eligible  \n",
       "92675          0                  41.0                Eligible  \n",
       "\n",
       "[92676 rows x 8 columns]"
      ]
     },
     "execution_count": 22,
     "metadata": {},
     "output_type": "execute_result"
    }
   ],
   "source": [
    "df"
   ]
  },
  {
   "cell_type": "code",
   "execution_count": 23,
   "metadata": {},
   "outputs": [
    {
     "data": {
      "text/plain": [
       "<bound method DataFrame.nunique of       State  Model Year       Make Electric Vehicle Type  Electric Range  \\\n",
       "0        WA        2020      TESLA                   BEV             266   \n",
       "1        WA        2024        BMW                  PHEV              39   \n",
       "2        WA        2024        BMW                  PHEV              39   \n",
       "3        WA        2018      TESLA                   BEV             215   \n",
       "4        WA        2012  CHEVROLET                  PHEV              35   \n",
       "...     ...         ...        ...                   ...             ...   \n",
       "92671    WA        2015     NISSAN                   BEV              84   \n",
       "92672    WA        2018      TESLA                   BEV             215   \n",
       "92673    WA        2019      TESLA                   BEV             220   \n",
       "92674    WA        2022   CHRYSLER                  PHEV              32   \n",
       "92675    WA        2018      TESLA                   BEV             215   \n",
       "\n",
       "       Base MSRP  Legislative District CAFV Eligibility Simple  \n",
       "0              0                  46.0                Eligible  \n",
       "1              0                  46.0                Eligible  \n",
       "2              0                  43.0                Eligible  \n",
       "3              0                   1.0                Eligible  \n",
       "4              0                  35.0                Eligible  \n",
       "...          ...                   ...                     ...  \n",
       "92671          0                  30.0                Eligible  \n",
       "92672          0                   1.0                Eligible  \n",
       "92673          0                  44.0                Eligible  \n",
       "92674          0                  45.0                Eligible  \n",
       "92675          0                  41.0                Eligible  \n",
       "\n",
       "[92676 rows x 8 columns]>"
      ]
     },
     "execution_count": 23,
     "metadata": {},
     "output_type": "execute_result"
    }
   ],
   "source": [
    "df.nunique"
   ]
  },
  {
   "cell_type": "code",
   "execution_count": 24,
   "metadata": {},
   "outputs": [],
   "source": [
    "df=df.drop(['State'],axis=1)"
   ]
  },
  {
   "cell_type": "code",
   "execution_count": 25,
   "metadata": {},
   "outputs": [
    {
     "data": {
      "text/plain": [
       "(92676, 7)"
      ]
     },
     "execution_count": 25,
     "metadata": {},
     "output_type": "execute_result"
    }
   ],
   "source": [
    "df.shape"
   ]
  },
  {
   "cell_type": "code",
   "execution_count": 26,
   "metadata": {},
   "outputs": [
    {
     "data": {
      "text/plain": [
       "Index(['Model Year', 'Make', 'Electric Vehicle Type', 'Electric Range',\n",
       "       'Base MSRP', 'Legislative District', 'CAFV Eligibility Simple'],\n",
       "      dtype='object')"
      ]
     },
     "execution_count": 26,
     "metadata": {},
     "output_type": "execute_result"
    }
   ],
   "source": [
    "df.columns"
   ]
  },
  {
   "cell_type": "code",
   "execution_count": 27,
   "metadata": {},
   "outputs": [
    {
     "data": {
      "image/png": "[encoded data removed]",
      "text/plain": [
       "<Figure size 1000x600 with 1 Axes>"
      ]
     },
     "metadata": {},
     "output_type": "display_data"
    }
   ],
   "source": [
    "import matplotlib.pyplot as plt\n",
    "import seaborn as sns  # Import seaborn\n",
    "\n",
    "plt.figure(figsize=(10, 6))\n",
    "sns.histplot(df['Electric Range'], kde=True, color='blue')\n",
    "plt.title('Distribution of Electric Range')\n",
    "plt.xlabel('Electric Range (miles)')\n",
    "plt.ylabel('Frequency')\n",
    "plt.show()\n"
   ]
  },
  {
   "cell_type": "code",
   "execution_count": 28,
   "metadata": {},
   "outputs": [
    {
     "name": "stderr",
     "output_type": "stream",
     "text": [
      "C:\\Users\\USER\\AppData\\Local\\Temp\\ipykernel_9836\\921100245.py:2: FutureWarning: \n",
      "\n",
      "Passing `palette` without assigning `hue` is deprecated and will be removed in v0.14.0. Assign the `x` variable to `hue` and set `legend=False` for the same effect.\n",
      "\n",
      "  sns.countplot(x='Electric Vehicle Type', data=df, palette='viridis')\n"
     ]
    },
    {
     "data": {
      "image/png": "[encoded data removed]",
      "text/plain": [
       "<Figure size 800x600 with 1 Axes>"
      ]
     },
     "metadata": {},
     "output_type": "display_data"
    }
   ],
   "source": [
    "plt.figure(figsize=(8, 6))\n",
    "sns.countplot(x='Electric Vehicle Type', data=df, palette='viridis')\n",
    "plt.title('Electric Vehicle Type Distribution')\n",
    "plt.xlabel('Vehicle Type')\n",
    "plt.ylabel('Count')\n",
    "plt.show()"
   ]
  },
  {
   "cell_type": "code",
   "execution_count": 29,
   "metadata": {},
   "outputs": [
    {
     "name": "stderr",
     "output_type": "stream",
     "text": [
      "C:\\Users\\USER\\AppData\\Local\\Temp\\ipykernel_9836\\296478019.py:2: FutureWarning: \n",
      "\n",
      "Passing `palette` without assigning `hue` is deprecated and will be removed in v0.14.0. Assign the `x` variable to `hue` and set `legend=False` for the same effect.\n",
      "\n",
      "  sns.countplot(x='Model Year', data=df, palette='Set2')\n"
     ]
    },
    {
     "data": {
      "image/png": "[encoded data removed]",
      "text/plain": [
       "<Figure size 1800x600 with 1 Axes>"
      ]
     },
     "metadata": {},
     "output_type": "display_data"
    }
   ],
   "source": [
    "plt.figure(figsize=(18, 6))\n",
    "sns.countplot(x='Model Year', data=df, palette='Set2')\n",
    "plt.title('Model Year Distribution')\n",
    "plt.xlabel('Model Year')\n",
    "plt.ylabel('Count')\n",
    "plt.show()"
   ]
  },
  {
   "cell_type": "code",
   "execution_count": 30,
   "metadata": {},
   "outputs": [
    {
     "data": {
      "image/png": "[encoded data removed]",
      "text/plain": [
       "<Figure size 1000x600 with 1 Axes>"
      ]
     },
     "metadata": {},
     "output_type": "display_data"
    }
   ],
   "source": [
    "plt.figure(figsize=(10, 6))\n",
    "sns.scatterplot(x='Electric Range', y='Base MSRP', data=df, hue='Electric Vehicle Type', palette='muted')\n",
    "plt.title('Base MSRP vs Electric Range')\n",
    "plt.xlabel('Electric Range (miles)')\n",
    "plt.ylabel('Base MSRP (USD)')\n",
    "plt.show()"
   ]
  },
  {
   "cell_type": "code",
   "execution_count": 31,
   "metadata": {},
   "outputs": [],
   "source": [
    "X = df.drop('Electric Vehicle Type', axis=1)  \n",
    "y = df['Electric Vehicle Type']"
   ]
  },
  {
   "cell_type": "code",
   "execution_count": 32,
   "metadata": {},
   "outputs": [],
   "source": [
    "from sklearn.model_selection import train_test_split, cross_val_score"
   ]
  },
  {
   "cell_type": "code",
   "execution_count": 33,
   "metadata": {},
   "outputs": [],
   "source": [
    "X_train, X_test, y_train, y_test = train_test_split(X, y, test_size=0.2, random_state=42)"
   ]
  },
  {
   "cell_type": "code",
   "execution_count": 34,
   "metadata": {},
   "outputs": [],
   "source": [
    "from sklearn.ensemble import GradientBoostingClassifier\n",
    "from sklearn.linear_model import LogisticRegression\n",
    "from sklearn.neighbors import KNeighborsClassifier\n",
    "from sklearn.tree import DecisionTreeClassifier"
   ]
  },
  {
   "cell_type": "code",
   "execution_count": 35,
   "metadata": {},
   "outputs": [],
   "source": [
    "classifiers = [\n",
    "    ('Logistic Regression', LogisticRegression()),\n",
    "    ('KNN', KNeighborsClassifier()),\n",
    "    ('Decision Tree', DecisionTreeClassifier()),\n",
    "    ('Gradient Boosting', GradientBoostingClassifier())\n",
    "]"
   ]
  },
  {
   "cell_type": "code",
   "execution_count": 36,
   "metadata": {},
   "outputs": [],
   "source": [
    "results = {\n",
    "    'Model': [],\n",
    "    'Accuracy': [],\n",
    "    'Precision': [],\n",
    "}"
   ]
  },
  {
   "cell_type": "code",
   "execution_count": 37,
   "metadata": {},
   "outputs": [],
   "source": [
    "X_train = pd.get_dummies(X_train)\n",
    "X_test = pd.get_dummies(X_test)"
   ]
  },
  {
   "cell_type": "code",
   "execution_count": 38,
   "metadata": {},
   "outputs": [],
   "source": [
    "from sklearn.preprocessing import LabelEncoder\n",
    "le = LabelEncoder()\n",
    "y_train = le.fit_transform(y_train)\n",
    "y_test = le.transform(y_test)\n"
   ]
  },
  {
   "cell_type": "code",
   "execution_count": 39,
   "metadata": {},
   "outputs": [],
   "source": [
    "X_test = X_test.reindex(columns=X_train.columns, fill_value=0)\n"
   ]
  },
  {
   "cell_type": "code",
   "execution_count": 40,
   "metadata": {},
   "outputs": [
    {
     "name": "stderr",
     "output_type": "stream",
     "text": [
      "c:\\Users\\USER\\AppData\\Local\\Programs\\Python\\Python313\\Lib\\site-packages\\sklearn\\linear_model\\_logistic.py:469: ConvergenceWarning: lbfgs failed to converge (status=1):\n",
      "STOP: TOTAL NO. of ITERATIONS REACHED LIMIT.\n",
      "\n",
      "Increase the number of iterations (max_iter) or scale the data as shown in:\n",
      "    https://scikit-learn.org/stable/modules/preprocessing.html\n",
      "Please also refer to the documentation for alternative solver options:\n",
      "    https://scikit-learn.org/stable/modules/linear_model.html#logistic-regression\n",
      "  n_iter_i = _check_optimize_result(\n",
      "c:\\Users\\USER\\AppData\\Local\\Programs\\Python\\Python313\\Lib\\site-packages\\sklearn\\linear_model\\_logistic.py:469: ConvergenceWarning: lbfgs failed to converge (status=1):\n",
      "STOP: TOTAL NO. of ITERATIONS REACHED LIMIT.\n",
      "\n",
      "Increase the number of iterations (max_iter) or scale the data as shown in:\n",
      "    https://scikit-learn.org/stable/modules/preprocessing.html\n",
      "Please also refer to the documentation for alternative solver options:\n",
      "    https://scikit-learn.org/stable/modules/linear_model.html#logistic-regression\n",
      "  n_iter_i = _check_optimize_result(\n",
      "c:\\Users\\USER\\AppData\\Local\\Programs\\Python\\Python313\\Lib\\site-packages\\sklearn\\linear_model\\_logistic.py:469: ConvergenceWarning: lbfgs failed to converge (status=1):\n",
      "STOP: TOTAL NO. of ITERATIONS REACHED LIMIT.\n",
      "\n",
      "Increase the number of iterations (max_iter) or scale the data as shown in:\n",
      "    https://scikit-learn.org/stable/modules/preprocessing.html\n",
      "Please also refer to the documentation for alternative solver options:\n",
      "    https://scikit-learn.org/stable/modules/linear_model.html#logistic-regression\n",
      "  n_iter_i = _check_optimize_result(\n",
      "c:\\Users\\USER\\AppData\\Local\\Programs\\Python\\Python313\\Lib\\site-packages\\sklearn\\linear_model\\_logistic.py:469: ConvergenceWarning: lbfgs failed to converge (status=1):\n",
      "STOP: TOTAL NO. of ITERATIONS REACHED LIMIT.\n",
      "\n",
      "Increase the number of iterations (max_iter) or scale the data as shown in:\n",
      "    https://scikit-learn.org/stable/modules/preprocessing.html\n",
      "Please also refer to the documentation for alternative solver options:\n",
      "    https://scikit-learn.org/stable/modules/linear_model.html#logistic-regression\n",
      "  n_iter_i = _check_optimize_result(\n",
      "c:\\Users\\USER\\AppData\\Local\\Programs\\Python\\Python313\\Lib\\site-packages\\sklearn\\linear_model\\_logistic.py:469: ConvergenceWarning: lbfgs failed to converge (status=1):\n",
      "STOP: TOTAL NO. of ITERATIONS REACHED LIMIT.\n",
      "\n",
      "Increase the number of iterations (max_iter) or scale the data as shown in:\n",
      "    https://scikit-learn.org/stable/modules/preprocessing.html\n",
      "Please also refer to the documentation for alternative solver options:\n",
      "    https://scikit-learn.org/stable/modules/linear_model.html#logistic-regression\n",
      "  n_iter_i = _check_optimize_result(\n",
      "c:\\Users\\USER\\AppData\\Local\\Programs\\Python\\Python313\\Lib\\site-packages\\sklearn\\linear_model\\_logistic.py:469: ConvergenceWarning: lbfgs failed to converge (status=1):\n",
      "STOP: TOTAL NO. of ITERATIONS REACHED LIMIT.\n",
      "\n",
      "Increase the number of iterations (max_iter) or scale the data as shown in:\n",
      "    https://scikit-learn.org/stable/modules/preprocessing.html\n",
      "Please also refer to the documentation for alternative solver options:\n",
      "    https://scikit-learn.org/stable/modules/linear_model.html#logistic-regression\n",
      "  n_iter_i = _check_optimize_result(\n"
     ]
    }
   ],
   "source": [
    "for name, clf in classifiers:\n",
    "    # Cross-validation score\n",
    "    cv_score = cross_val_score(clf, X_train, y_train, cv=5, scoring='accuracy')\n",
    "    clf.fit(X_train, y_train)\n",
    "    y_pred = clf.predict(X_test)"
   ]
  },
  {
   "cell_type": "code",
   "execution_count": 41,
   "metadata": {},
   "outputs": [
    {
     "name": "stdout",
     "output_type": "stream",
     "text": [
      "Cross-validation score for Random Forest: 0.9998\n",
      "Cross-validation score for Logistic Regression: 0.9828\n",
      "Cross-validation score for SVM: 0.8908\n",
      "                 Model  Accuracy  Precision\n",
      "0        Random Forest  0.999892   0.999892\n",
      "1  Logistic Regression  0.981711   0.981728\n",
      "2                  SVM  0.888703   0.905691\n"
     ]
    }
   ],
   "source": [
    "import pandas as pd\n",
    "from sklearn.model_selection import train_test_split, cross_val_score\n",
    "from sklearn.ensemble import RandomForestClassifier\n",
    "from sklearn.linear_model import LogisticRegression\n",
    "from sklearn.svm import SVC\n",
    "from sklearn.metrics import accuracy_score, precision_score\n",
    "from sklearn.preprocessing import LabelEncoder\n",
    "\n",
    "# Load the dataset (replace with your own dataset)\n",
    "data = pd.read_csv(\"EV_Population.csv\")  # Replace with the path to your dataset\n",
    "\n",
    "# Ensure all categorical columns are encoded\n",
    "categorical_columns = data.select_dtypes(include=['object']).columns\n",
    "\n",
    "# Encode categorical columns using LabelEncoder or OneHotEncoder\n",
    "label_encoders = {}\n",
    "for col in categorical_columns:\n",
    "    le = LabelEncoder()\n",
    "    data[col] = le.fit_transform(data[col])\n",
    "    label_encoders[col] = le  # Store the label encoder for inverse transform if needed\n",
    "\n",
    "# Assume the target column is 'Electric Vehicle Type' (adjust as needed)\n",
    "X = data.drop('Electric Vehicle Type', axis=1)  # Features\n",
    "y = data['Electric Vehicle Type']  # Target variable\n",
    "\n",
    "# Train-test split\n",
    "X_train, X_test, y_train, y_test = train_test_split(X, y, test_size=0.2, random_state=42)\n",
    "\n",
    "# Define classifiers to evaluate\n",
    "classifiers = [\n",
    "    ('Random Forest', RandomForestClassifier(random_state=42)),\n",
    "    ('Logistic Regression', LogisticRegression(max_iter=1000)),\n",
    "    ('SVM', SVC(probability=True, random_state=42)),\n",
    "]\n",
    "\n",
    "# Check if the problem is binary or multi-class\n",
    "is_binary = len(y.unique()) == 2  # Binary classification if only 2 unique values in target column\n",
    "\n",
    "# Initialize results dictionary\n",
    "results = {'Model': [], 'Accuracy': [], 'Precision': []}\n",
    "\n",
    "# Evaluate the models\n",
    "for name, clf in classifiers:\n",
    "    # Cross-validation score\n",
    "    cv_score = cross_val_score(clf, X_train, y_train, cv=5, scoring='accuracy')\n",
    "    print(f\"Cross-validation score for {name}: {cv_score.mean():.4f}\")\n",
    "    \n",
    "    clf.fit(X_train, y_train)\n",
    "    y_pred = clf.predict(X_test)\n",
    "    \n",
    "    # Calculate performance metrics\n",
    "    accuracy = accuracy_score(y_test, y_pred)\n",
    "    precision = precision_score(y_test, y_pred, average='weighted', zero_division=0)\n",
    "    \n",
    "    # Calculate ROC AUC score for multi-class (One-vs-Rest)\n",
    "    if not is_binary:  # Only compute ROC AUC for multi-class problems\n",
    "        lb = LabelBinarizer()\n",
    "        lb.fit(y)\n",
    "        y_test_bin = lb.transform(y_test)\n",
    "        y_pred_prob = clf.predict_proba(X_test)\n",
    "        # Optionally, calculate ROC AUC score here for multi-class\n",
    "\n",
    "    # Store results\n",
    "    results['Model'].append(name)\n",
    "    results['Accuracy'].append(accuracy)\n",
    "    results['Precision'].append(precision)\n",
    "\n",
    "# Convert results to DataFrame for better visualization\n",
    "results_df = pd.DataFrame(results)\n",
    "\n",
    "# Display the results\n",
    "print(results_df)\n"
   ]
  },
  {
   "cell_type": "code",
   "execution_count": 42,
   "metadata": {},
   "outputs": [
    {
     "name": "stdout",
     "output_type": "stream",
     "text": [
      "Accuracy: 1.0\n",
      "Precision: 1.0\n",
      "\n",
      "Classification Report:\n",
      "               precision    recall  f1-score   support\n",
      "\n",
      "           0       1.00      1.00      1.00      9284\n",
      "           1       1.00      1.00      1.00      9252\n",
      "\n",
      "    accuracy                           1.00     18536\n",
      "   macro avg       1.00      1.00      1.00     18536\n",
      "weighted avg       1.00      1.00      1.00     18536\n",
      "\n",
      "\n",
      "Confusion Matrix:\n",
      " [[9284    0]\n",
      " [   0 9252]]\n"
     ]
    }
   ],
   "source": [
    "import numpy as np\n",
    "import pandas as pd\n",
    "from sklearn.model_selection import train_test_split\n",
    "from sklearn.ensemble import GradientBoostingClassifier\n",
    "from sklearn.metrics import accuracy_score, precision_score, classification_report, confusion_matrix\n",
    "from sklearn.preprocessing import LabelEncoder\n",
    "\n",
    "# Assuming `df` is your dataset\n",
    "# Replace 'features' and 'target' with your actual column names\n",
    "\n",
    "# Encode categorical variables in features\n",
    "categorical_columns = X.select_dtypes(include=['object']).columns  # Select columns with strings\n",
    "X[categorical_columns] = X[categorical_columns].apply(LabelEncoder().fit_transform)\n",
    "\n",
    "# Encode target variable (if needed)\n",
    "y = LabelEncoder().fit_transform(y)\n",
    "\n",
    "# Split data into train and test sets\n",
    "X_train, X_test, y_train, y_test = train_test_split(X, y, test_size=0.2, random_state=42)\n",
    "\n",
    "# Initialize the Gradient Boosting Classifier\n",
    "gb_model = GradientBoostingClassifier(random_state=42)\n",
    "\n",
    "# Train the model on the training data\n",
    "gb_model.fit(X_train, y_train)\n",
    "\n",
    "# Predict on the test set\n",
    "y_pred = gb_model.predict(X_test)\n",
    "\n",
    "# Evaluate performance\n",
    "accuracy = accuracy_score(y_test, y_pred)\n",
    "precision = precision_score(y_test, y_pred, average='weighted')  # Use 'weighted' for multi-class\n",
    "print(\"Accuracy:\", accuracy)\n",
    "print(\"Precision:\", precision)\n",
    "\n",
    "# Detailed performance report\n",
    "print(\"\\nClassification Report:\\n\", classification_report(y_test, y_pred))\n",
    "\n",
    "# Confusion matrix\n",
    "print(\"\\nConfusion Matrix:\\n\", confusion_matrix(y_test, y_pred))\n"
   ]
  },
  {
   "cell_type": "code",
   "execution_count": 43,
   "metadata": {},
   "outputs": [
    {
     "name": "stdout",
     "output_type": "stream",
     "text": [
      "Predicted Class Labels: [0 0 1 ... 1 1 0]\n",
      "\n",
      "Actual vs Predicted:\n",
      "       Actual  Predicted\n",
      "0           0          0\n",
      "1           0          0\n",
      "2           1          1\n",
      "3           0          0\n",
      "4           1          1\n",
      "...       ...        ...\n",
      "18531       1          1\n",
      "18532       1          1\n",
      "18533       1          1\n",
      "18534       1          1\n",
      "18535       0          0\n",
      "\n",
      "[18536 rows x 2 columns]\n"
     ]
    }
   ],
   "source": [
    "# Predict on the test set\n",
    "y_pred = gb_model.predict(X_test)\n",
    "\n",
    "# Print predictions\n",
    "print(\"Predicted Class Labels:\", y_pred)\n",
    "\n",
    "# If you want predictions alongside the actual values:\n",
    "print(\"\\nActual vs Predicted:\")\n",
    "print(pd.DataFrame({'Actual': y_test, 'Predicted': y_pred}))\n"
   ]
  },
  {
   "cell_type": "code",
   "execution_count": 44,
   "metadata": {},
   "outputs": [
    {
     "data": {
      "text/plain": [
       "['model_lda.pk1']"
      ]
     },
     "execution_count": 44,
     "metadata": {},
     "output_type": "execute_result"
    }
   ],
   "source": [
    "import joblib\n",
    "\n",
    "joblib.dump(gb_model, \"model_lda.pk1\")"
   ]
  }
 ],
 "metadata": {
  "kernelspec": {
   "display_name": "Python 3",
   "language": "python",
   "name": "python3"
  },
  "language_info": {
   "codemirror_mode": {
    "name": "ipython",
    "version": 3
   },
   "file_extension": ".py",
   "mimetype": "text/x-python",
   "name": "python",
   "nbconvert_exporter": "python",
   "pygments_lexer": "ipython3",
   "version": "3.13.0"
  }
 },
 "nbformat": 4,
 "nbformat_minor": 2
}
